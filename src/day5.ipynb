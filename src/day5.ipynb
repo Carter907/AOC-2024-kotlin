{
 "cells": [
  {
   "cell_type": "code",
   "metadata": {
    "collapsed": true,
    "ExecuteTime": {
     "end_time": "2024-12-06T21:40:47.105430482Z",
     "start_time": "2024-12-06T21:40:47.003583318Z"
    }
   },
   "source": "@file:DependsOn(\"com.toldoven.aoc:aoc-kotlin-notebook:1.1.2\")",
   "outputs": [],
   "execution_count": 41
  },
  {
   "metadata": {
    "ExecuteTime": {
     "end_time": "2024-12-06T21:40:47.160269424Z",
     "start_time": "2024-12-06T21:40:47.113435243Z"
    }
   },
   "cell_type": "code",
   "source": [
    "import com.toldoven.aoc.notebook.AocClient\n",
    "\n",
    "val aoc = AocClient.fromFile().interactiveDay(2024, 5)\n",
    "aoc.viewPartTwo()"
   ],
   "outputs": [
    {
     "data": {
      "text/html": [
       "<h2 id=\"part2\">--- Part Two ---</h2>\n",
       "<p>While the Elves get to work printing the correctly-ordered updates, you have a little time to fix the rest of them.</p> \n",
       "<p>For each of the <em>incorrectly-ordered updates</em>, use the page ordering rules to put the page numbers in the right order. For the above example, here are the three incorrectly-ordered updates and their correct orderings:</p> \n",
       "<ul> \n",
       " <li><code>75,97,47,61,53</code> becomes <code>97,75,<em>47</em>,61,53</code>.</li> \n",
       " <li><code>61,13,29</code> becomes <code>61,<em>29</em>,13</code>.</li> \n",
       " <li><code>97,13,75,29,47</code> becomes <code>97,75,<em>47</em>,29,13</code>.</li> \n",
       "</ul> \n",
       "<p>After taking <em>only the incorrectly-ordered updates</em> and ordering them correctly, their middle page numbers are <code>47</code>, <code>29</code>, and <code>47</code>. Adding these together produces <code><em>123</em></code>.</p> \n",
       "<p>Find the updates which are not in the correct order. <em>What do you get if you add up the middle page numbers after correctly ordering just those updates?</em></p>"
      ]
     },
     "execution_count": 42,
     "metadata": {},
     "output_type": "execute_result"
    }
   ],
   "execution_count": 42
  },
  {
   "metadata": {
    "ExecuteTime": {
     "end_time": "2024-12-06T21:40:47.313104748Z",
     "start_time": "2024-12-06T21:40:47.169386551Z"
    }
   },
   "cell_type": "code",
   "source": [
    "val fs = aoc.input().substringBefore(\"\\n\\n\")\n",
    "val ss = aoc.input().substringAfter(\"\\n\\n\")\n",
    "\n",
    "val rules = fs.lines().map { val (f,s) = it.split(\"|\").map { it.toInt() }; f to s}\n",
    "val updates = ss.lines().map { it.split(\",\").map { it.toInt() } }"
   ],
   "outputs": [],
   "execution_count": 43
  },
  {
   "metadata": {},
   "cell_type": "markdown",
   "source": [
    "Okay so the first thing we are going to do for part 2 is iterate through each update. We do this\n",
    "in order to check if that elements are in the correct order. If they are no we construct a new\n",
    "list using the relevant elements in the problematic update. Lastly we get the middle number.\n",
    "\n",
    "The pseudocode for the sort code:\n",
    "```\n",
    "for each update in updates {\n",
    "    var list = new\n",
    "    for each rule in rules {\n",
    "        if rule is in update && rule.first.indexIn(update) > rule.last.indexIn(update) {\n",
    "            for each element in update {\n",
    "                // insert into new list\n",
    "                list.push(element)\n",
    "            }\n",
    "        }\n",
    "    }\n",
    "}\n",
    "```"
   ]
  },
  {
   "metadata": {},
   "cell_type": "markdown",
   "source": ""
  },
  {
   "metadata": {
    "ExecuteTime": {
     "end_time": "2024-12-06T22:33:19.544820339Z",
     "start_time": "2024-12-06T22:33:19.456698527Z"
    }
   },
   "cell_type": "code",
   "source": [
    "val pairs = arrayOf(2 to 3, 6 to 2, 5 to 8, 8 to 2)\n",
    "val list = listOf(2,3,6,8,5).sortedWith { o1, o2 ->\n",
    "    var res: Int = 0\n",
    "    for (pair in pairs) {\n",
    "\n",
    "        if (o1 == pair.first && o2 == pair.second) {\n",
    "            res = -1\n",
    "        } else if (o1 == pair.second && o2 == pair.first) {\n",
    "            res = 1\n",
    "        }\n",
    "    }\n",
    "    res\n",
    " }\n",
    "list"
   ],
   "outputs": [
    {
     "data": {
      "text/plain": [
       "[2, 3, 6, 5, 8]"
      ]
     },
     "execution_count": 57,
     "metadata": {},
     "output_type": "execute_result"
    }
   ],
   "execution_count": 57
  }
 ],
 "metadata": {
  "kernelspec": {
   "display_name": "Kotlin",
   "language": "kotlin",
   "name": "kotlin"
  },
  "language_info": {
   "name": "kotlin",
   "version": "1.9.23",
   "mimetype": "text/x-kotlin",
   "file_extension": ".kt",
   "pygments_lexer": "kotlin",
   "codemirror_mode": "text/x-kotlin",
   "nbconvert_exporter": ""
  }
 },
 "nbformat": 4,
 "nbformat_minor": 0
}
